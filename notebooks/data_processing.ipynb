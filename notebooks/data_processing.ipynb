{
 "cells": [
  {
   "cell_type": "code",
   "execution_count": 8,
   "metadata": {},
   "outputs": [],
   "source": [
    "import numpy as np\n",
    "import pandas as pd\n",
    "import os\n",
    "import json"
   ]
  },
  {
   "cell_type": "markdown",
   "metadata": {},
   "source": [
    "# Scraping the transcripts"
   ]
  },
  {
   "cell_type": "code",
   "execution_count": 47,
   "metadata": {},
   "outputs": [
    {
     "name": "stdout",
     "output_type": "stream",
     "text": [
      "Good transcripts:  ['LEL175JU154.json', 'LEL295JU035.json', 'STP560JG118.json', 'OFC105SU068.json', 'COL385MU054.json']\n",
      "Total good transcripts: 152\n",
      "Bad transcripts:  ['se_2.mp4.json', 'en_6.mp4.json', 'de_1.mp4.json', 'cn_1.mp4.json', 'nl_2.mp4.json']\n",
      "Total bad transcripts: 25\n"
     ]
    }
   ],
   "source": [
    "## Check out file names\n",
    "path_to_good_transcripts = '../data/raw/transcripts/'\n",
    "transcript_files = [pos_json for pos_json in os.listdir(path_to_good_transcripts) if pos_json.endswith('.json')]\n",
    "print(\"Good transcripts: \",transcript_files[:5])\n",
    "print(f\"Total good transcripts: {len(transcript_files)}\")\n",
    "path_to_bad_transcripts = '../data/raw/wrong_langs/'\n",
    "transcript_files = [pos_json for pos_json in os.listdir(path_to_bad_transcripts) if pos_json.endswith('.json')]\n",
    "print(\"Bad transcripts: \",transcript_files[:5])\n",
    "print(f\"Total bad transcripts: {len(transcript_files)}\")"
   ]
  },
  {
   "cell_type": "code",
   "execution_count": 41,
   "metadata": {},
   "outputs": [],
   "source": [
    "# Function for extracting all transcripts from a directory\n",
    "def read_jsons(data_path):\n",
    "    transcript_files = [pos_json for pos_json in os.listdir(data_path) if pos_json.endswith('.json')]\n",
    "\n",
    "    contents = []\n",
    "    for file_name in transcript_files:\n",
    "        file_path = data_path + file_name\n",
    "        with open(file_path) as file_content:\n",
    "            data = json.load(file_content)\n",
    "            text = data['results']['transcripts'][0]['transcript']\n",
    "            contents.append(text)\n",
    "\n",
    "    df = pd.DataFrame({'file_name': transcript_files, 'content' : contents})\n",
    "    df.set_index('file_name', inplace=True)\n",
    "    return df"
   ]
  },
  {
   "cell_type": "code",
   "execution_count": 42,
   "metadata": {},
   "outputs": [
    {
     "data": {
      "text/html": [
       "<div>\n",
       "<style scoped>\n",
       "    .dataframe tbody tr th:only-of-type {\n",
       "        vertical-align: middle;\n",
       "    }\n",
       "\n",
       "    .dataframe tbody tr th {\n",
       "        vertical-align: top;\n",
       "    }\n",
       "\n",
       "    .dataframe thead th {\n",
       "        text-align: right;\n",
       "    }\n",
       "</style>\n",
       "<table border=\"1\" class=\"dataframe\">\n",
       "  <thead>\n",
       "    <tr style=\"text-align: right;\">\n",
       "      <th></th>\n",
       "      <th>content</th>\n",
       "    </tr>\n",
       "    <tr>\n",
       "      <th>file_name</th>\n",
       "      <th></th>\n",
       "    </tr>\n",
       "  </thead>\n",
       "  <tbody>\n",
       "    <tr>\n",
       "      <th>LEL175JU154.json</th>\n",
       "      <td>(xx) could i have your attention please? Dr Ha...</td>\n",
       "    </tr>\n",
       "    <tr>\n",
       "      <th>LEL295JU035.json</th>\n",
       "      <td>let me ask a question. no yeah the font's too ...</td>\n",
       "    </tr>\n",
       "    <tr>\n",
       "      <th>STP560JG118.json</th>\n",
       "      <td>computer to work. um first we'd like to start ...</td>\n",
       "    </tr>\n",
       "    <tr>\n",
       "      <th>OFC105SU068.json</th>\n",
       "      <td>right. here uh the clipboard. that i ga- okay ...</td>\n",
       "    </tr>\n",
       "    <tr>\n",
       "      <th>COL385MU054.json</th>\n",
       "      <td>this lecture uh, we are very pleased that the ...</td>\n",
       "    </tr>\n",
       "  </tbody>\n",
       "</table>\n",
       "</div>"
      ],
      "text/plain": [
       "                                                            content\n",
       "file_name                                                          \n",
       "LEL175JU154.json  (xx) could i have your attention please? Dr Ha...\n",
       "LEL295JU035.json  let me ask a question. no yeah the font's too ...\n",
       "STP560JG118.json  computer to work. um first we'd like to start ...\n",
       "OFC105SU068.json  right. here uh the clipboard. that i ga- okay ...\n",
       "COL385MU054.json  this lecture uh, we are very pleased that the ..."
      ]
     },
     "execution_count": 42,
     "metadata": {},
     "output_type": "execute_result"
    }
   ],
   "source": [
    "path_to_good_transcripts = '../data/raw/transcripts/'\n",
    "df_good = read_jsons(path_to_good_transcripts)\n",
    "df_good.head()"
   ]
  },
  {
   "cell_type": "code",
   "execution_count": 43,
   "metadata": {},
   "outputs": [
    {
     "data": {
      "text/html": [
       "<div>\n",
       "<style scoped>\n",
       "    .dataframe tbody tr th:only-of-type {\n",
       "        vertical-align: middle;\n",
       "    }\n",
       "\n",
       "    .dataframe tbody tr th {\n",
       "        vertical-align: top;\n",
       "    }\n",
       "\n",
       "    .dataframe thead th {\n",
       "        text-align: right;\n",
       "    }\n",
       "</style>\n",
       "<table border=\"1\" class=\"dataframe\">\n",
       "  <thead>\n",
       "    <tr style=\"text-align: right;\">\n",
       "      <th></th>\n",
       "      <th>content</th>\n",
       "    </tr>\n",
       "    <tr>\n",
       "      <th>file_name</th>\n",
       "      <th></th>\n",
       "    </tr>\n",
       "  </thead>\n",
       "  <tbody>\n",
       "    <tr>\n",
       "      <th>se_2.mp4.json</th>\n",
       "      <td>And Hey. Hey. Who did I have a name? For the O...</td>\n",
       "    </tr>\n",
       "    <tr>\n",
       "      <th>en_6.mp4.json</th>\n",
       "      <td>Tu English speaking Contress. Is the post you ...</td>\n",
       "    </tr>\n",
       "    <tr>\n",
       "      <th>de_1.mp4.json</th>\n",
       "      <td>Das is the hour. A cabo shown Al Kochen and De...</td>\n",
       "    </tr>\n",
       "    <tr>\n",
       "      <th>cn_1.mp4.json</th>\n",
       "      <td>Welcome to another Mandarin Corner video. For ...</td>\n",
       "    </tr>\n",
       "    <tr>\n",
       "      <th>nl_2.mp4.json</th>\n",
       "      <td>And elastic stylist. Lads were beginner. Lagma...</td>\n",
       "    </tr>\n",
       "  </tbody>\n",
       "</table>\n",
       "</div>"
      ],
      "text/plain": [
       "                                                         content\n",
       "file_name                                                       \n",
       "se_2.mp4.json  And Hey. Hey. Who did I have a name? For the O...\n",
       "en_6.mp4.json  Tu English speaking Contress. Is the post you ...\n",
       "de_1.mp4.json  Das is the hour. A cabo shown Al Kochen and De...\n",
       "cn_1.mp4.json  Welcome to another Mandarin Corner video. For ...\n",
       "nl_2.mp4.json  And elastic stylist. Lads were beginner. Lagma..."
      ]
     },
     "execution_count": 43,
     "metadata": {},
     "output_type": "execute_result"
    }
   ],
   "source": [
    "## Getting filenames\n",
    "path_to_bad_transcripts = '../data/raw/wrong_langs/'\n",
    "df_bad = read_jsons(path_to_bad_transcripts)\n",
    "df_bad.head()"
   ]
  },
  {
   "cell_type": "markdown",
   "metadata": {},
   "source": [
    "# Joining the two dataframes together"
   ]
  },
  {
   "cell_type": "code",
   "execution_count": 50,
   "metadata": {},
   "outputs": [
    {
     "data": {
      "text/html": [
       "<div>\n",
       "<style scoped>\n",
       "    .dataframe tbody tr th:only-of-type {\n",
       "        vertical-align: middle;\n",
       "    }\n",
       "\n",
       "    .dataframe tbody tr th {\n",
       "        vertical-align: top;\n",
       "    }\n",
       "\n",
       "    .dataframe thead th {\n",
       "        text-align: right;\n",
       "    }\n",
       "</style>\n",
       "<table border=\"1\" class=\"dataframe\">\n",
       "  <thead>\n",
       "    <tr style=\"text-align: right;\">\n",
       "      <th></th>\n",
       "      <th>content</th>\n",
       "      <th>meaningful</th>\n",
       "    </tr>\n",
       "    <tr>\n",
       "      <th>file_name</th>\n",
       "      <th></th>\n",
       "      <th></th>\n",
       "    </tr>\n",
       "  </thead>\n",
       "  <tbody>\n",
       "    <tr>\n",
       "      <th>LEL175JU154.json</th>\n",
       "      <td>(xx) could i have your attention please? Dr Ha...</td>\n",
       "      <td>1</td>\n",
       "    </tr>\n",
       "    <tr>\n",
       "      <th>LEL295JU035.json</th>\n",
       "      <td>let me ask a question. no yeah the font's too ...</td>\n",
       "      <td>1</td>\n",
       "    </tr>\n",
       "    <tr>\n",
       "      <th>STP560JG118.json</th>\n",
       "      <td>computer to work. um first we'd like to start ...</td>\n",
       "      <td>1</td>\n",
       "    </tr>\n",
       "    <tr>\n",
       "      <th>OFC105SU068.json</th>\n",
       "      <td>right. here uh the clipboard. that i ga- okay ...</td>\n",
       "      <td>1</td>\n",
       "    </tr>\n",
       "    <tr>\n",
       "      <th>COL385MU054.json</th>\n",
       "      <td>this lecture uh, we are very pleased that the ...</td>\n",
       "      <td>1</td>\n",
       "    </tr>\n",
       "  </tbody>\n",
       "</table>\n",
       "</div>"
      ],
      "text/plain": [
       "                                                            content  \\\n",
       "file_name                                                             \n",
       "LEL175JU154.json  (xx) could i have your attention please? Dr Ha...   \n",
       "LEL295JU035.json  let me ask a question. no yeah the font's too ...   \n",
       "STP560JG118.json  computer to work. um first we'd like to start ...   \n",
       "OFC105SU068.json  right. here uh the clipboard. that i ga- okay ...   \n",
       "COL385MU054.json  this lecture uh, we are very pleased that the ...   \n",
       "\n",
       "                  meaningful  \n",
       "file_name                     \n",
       "LEL175JU154.json           1  \n",
       "LEL295JU035.json           1  \n",
       "STP560JG118.json           1  \n",
       "OFC105SU068.json           1  \n",
       "COL385MU054.json           1  "
      ]
     },
     "execution_count": 50,
     "metadata": {},
     "output_type": "execute_result"
    }
   ],
   "source": [
    "df_good['meaningful'] = 1\n",
    "df_bad['meaningful']  = 0\n",
    "\n",
    "df = pd.concat([df_good, df_bad])\n",
    "df.head()"
   ]
  },
  {
   "cell_type": "code",
   "execution_count": 52,
   "metadata": {},
   "outputs": [],
   "source": [
    "processed_data_path = '../data/processed/'\n",
    "file_name = 'all_transcripts.csv'\n",
    "df.to_csv(processed_data_path + file_name, sep='\\t')"
   ]
  }
 ],
 "metadata": {
  "kernelspec": {
   "display_name": "Python 3",
   "language": "python",
   "name": "python3"
  },
  "language_info": {
   "codemirror_mode": {
    "name": "ipython",
    "version": 3
   },
   "file_extension": ".py",
   "mimetype": "text/x-python",
   "name": "python",
   "nbconvert_exporter": "python",
   "pygments_lexer": "ipython3",
   "version": "3.10.2"
  }
 },
 "nbformat": 4,
 "nbformat_minor": 2
}
